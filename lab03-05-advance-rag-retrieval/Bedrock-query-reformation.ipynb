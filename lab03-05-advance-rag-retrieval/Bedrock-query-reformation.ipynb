{
 "cells": [
  {
   "cell_type": "markdown",
   "id": "85afc997-f102-44ac-b337-ce076857f5f4",
   "metadata": {},
   "source": [
    "# RAG Retrieval Optimization - Query Reformulation Supported By Amazon Bedrock Knowledge Bases"
   ]
  },
  {
   "cell_type": "markdown",
   "id": "91ee8c53-ee25-4c79-bb8d-6b419a035757",
   "metadata": {},
   "source": [
    "Amazon Bedrock Knowledge Bases now suppport query reformulation for complex user input queries. This feature can take a complex input query and break it into multiple sub-queries. These sub-queries will then separately go through their own retrieval steps to find relevant chunks. In this process, the subqueries having less semantic complexity might find more targeted chunks. These chunks will then be pooled and ranked together before passing them to the FM to generate a response.\n",
    "\n",
    "Also with query reformulation natively supported in Bedrock Knowledge Base, user can take advance of this feature to imporve robustness and accuracy of their RAG solution without having to manage extrac components like third party libraries."
   ]
  },
  {
   "cell_type": "markdown",
   "id": "c69aadf6-3888-4bdd-a219-0214a6a61743",
   "metadata": {},
   "source": [
    "## Pre-req\n",
    "You must run the `[workshop_setup.ipynb]`(../lab00-setup/workshop_setup.ipynb) notebook in `lab00-setup` before starting this lab."
   ]
  },
  {
   "cell_type": "code",
   "execution_count": null,
   "id": "399fb9bb-aebe-49ea-a148-816f0466b266",
   "metadata": {},
   "outputs": [],
   "source": [
    "import warnings\n",
    "warnings.warn(\"Warning: if you did not run lab00-setup, please go back and run the lab00 notebook\") "
   ]
  },
  {
   "cell_type": "markdown",
   "id": "da0aa96d-010e-4ac8-afc3-ce0df952565a",
   "metadata": {},
   "source": [
    "## Load the parameters"
   ]
  },
  {
   "cell_type": "code",
   "execution_count": null,
   "id": "93c4ddfc-6001-4571-b849-f4e1fdaa089d",
   "metadata": {},
   "outputs": [],
   "source": [
    "print(\"Lab parameters....\\n\")\n",
    "%store -r amzn10k_prefix\n",
    "%store -r amzn10k_s3_path\n",
    "%store -r bucket\n",
    "print(amzn10k_prefix)\n",
    "print(amzn10k_s3_path)\n",
    "print(bucket)\n",
    "\n",
    "print(\"\\nload the vector db parameters....\\n\")\n",
    "# vector parameters stored from Initial setup lab02\n",
    "%store -r vector_collection_arn\n",
    "%store -r vector_collection_id\n",
    "%store -r vector_host\n",
    "%store -r bedrock_kb_execution_role_arn\n",
    "## check all 4 values are printed and do not fail\n",
    "print(vector_collection_arn)\n",
    "print(vector_collection_id)\n",
    "print(vector_host)\n",
    "print(bedrock_kb_execution_role_arn)"
   ]
  },
  {
   "cell_type": "code",
   "execution_count": null,
   "id": "0f58da03-4ddc-417f-87ca-36a46f6d1096",
   "metadata": {},
   "outputs": [],
   "source": [
    "import random\n",
    "import time\n",
    "import boto3\n",
    "import sys\n",
    "\n",
    "sys.path.append('../lab00-setup')\n",
    "from knowledge_base import BedrockKnowledgeBase\n",
    "\n",
    "# auth for opensearch\n",
    "boto3_session = boto3.Session()\n",
    "region_name = boto3_session.region_name\n",
    "# try out KB using RetrieveAndGenerate API\n",
    "bedrock_agent_runtime_client = boto3.client(\"bedrock-agent-runtime\", region_name=region_name)\n",
    "model_id = \"anthropic.claude-3-sonnet-20240229-v1:0\" # try with both claude instant as well as claude-v2. for claude v2 - \"anthropic.claude-v2\"\n",
    "model_arn = f'arn:aws:bedrock:{region_name}::foundation-model/{model_id}'"
   ]
  },
  {
   "cell_type": "code",
   "execution_count": null,
   "id": "61da2aff-9a8d-4897-810c-4d6924a8fae7",
   "metadata": {},
   "outputs": [],
   "source": [
    "suffix = random.randrange(200, 900)\n",
    "kb_name = f\"bedrock-query-reformation-{suffix}\"\n",
    "index_name = f\"bedrock-query-reformulation-{suffix}\"\n",
    "description = \"This knowledge base contain Amazon 10K financial document from 2022 and 2023\"\n",
    "\n",
    "knowledge_base = BedrockKnowledgeBase(\n",
    "    kb_name=kb_name,\n",
    "    kb_description=description,\n",
    "    data_bucket_name=bucket,\n",
    "    data_prefix=[amzn10k_prefix],\n",
    "    vector_collection_arn=vector_collection_arn,\n",
    "    vector_collection_id=vector_collection_id,\n",
    "    vector_host=vector_host,\n",
    "    bedrock_kb_execution_role_arn=bedrock_kb_execution_role_arn,\n",
    "    index_name=index_name,\n",
    "    suffix=suffix,\n",
    ")"
   ]
  },
  {
   "cell_type": "markdown",
   "id": "ca3adc36-6cfc-42d9-bd87-f5c17a9ad53d",
   "metadata": {},
   "source": [
    "### Start ingestion job\n",
    "Once the KB and data source is created, we can start the ingestion job.\n",
    "During the ingestion job, KB will fetch the documents in the data source, pre-process it to extract text, chunk it based on the chunking size provided, create embeddings of each chunk and then write it to the vector database, in this case OSS."
   ]
  },
  {
   "cell_type": "code",
   "execution_count": null,
   "id": "c02b7198-949a-4325-8b71-04133b1cc811",
   "metadata": {},
   "outputs": [],
   "source": [
    "# ensure that the kb is available\n",
    "time.sleep(30)\n",
    "# sync knowledge base\n",
    "knowledge_base.start_ingestion_job()"
   ]
  },
  {
   "cell_type": "code",
   "execution_count": null,
   "id": "8e405b15-723c-4c36-b29c-f78dffc2be3c",
   "metadata": {},
   "outputs": [],
   "source": [
    "kb_id = knowledge_base.get_knowledge_base_id()"
   ]
  },
  {
   "cell_type": "markdown",
   "id": "9d265183-92d1-4977-8be2-880205feaeac",
   "metadata": {},
   "source": [
    "### Query Reformulation\n",
    "To demonstrate the functionality, we are going to more complex query contained in Aamzon's 10K financial document. This query contains a few asks that are not semantically related. When this query is embedded during the retrieval step, some aspects of the query may become diluted and therefore the relevant chunks returned may not address all components of this complex query.\n",
    "\n",
    "To query our Knowledge Base and generate a response we will use the retrieve_and_generate API call. To use the query reformulation feature, we will include in our knowledge base configuration the additional information as shown below:\n",
    "\n",
    "```\n",
    "'orchestrationConfiguration': {\n",
    "        'queryTransformationConfiguration': {\n",
    "            'type': 'QUERY_DECOMPOSITION'\n",
    "        }\n",
    "    }\n",
    "\n",
    "```"
   ]
  },
  {
   "cell_type": "markdown",
   "id": "3b20ebf1-8a23-4240-9607-130f6e6fff36",
   "metadata": {},
   "source": [
    "### > Without Query Reformulation\n",
    "Let's see how the generated result looks like for the following query without using query reformulation:\n",
    "\n",
    "\"What were Amazons net sales in year 2022 and 2023? Can you compare key challenges faced by Amazon for both years?\"\n",
    "\n",
    "\"What was Amazon's total net sales in 2023, and how did it compare to 2021? Also, what were the main factors contributing to the sales growth?\"\n",
    "\n",
    "\"How is Amazon differentiating itself from its competition in cloud computing for years 2022 and 2023?\""
   ]
  },
  {
   "cell_type": "code",
   "execution_count": null,
   "id": "66975db2-658c-4ed4-bcf5-0651ae88dfd6",
   "metadata": {},
   "outputs": [],
   "source": [
    "query = \"\"\"\n",
    "How is Amazon differentiating itself from its competition in cloud computing for years 2022 and 2023?\n",
    "\"\"\""
   ]
  },
  {
   "cell_type": "code",
   "execution_count": null,
   "id": "c810a70a-7df3-49d1-87a4-6ee5fb2104fc",
   "metadata": {},
   "outputs": [],
   "source": [
    "output_response = dict()\n",
    "\n",
    "for x in [\"DEFAULT\", \"QUERY_DECOMPOSITION\"]:\n",
    "\n",
    "    print(f\"Start RAG generation using {x} orchestration...\")\n",
    "    \n",
    "    knowledgeBaseConfig = {\n",
    "        'knowledgeBaseId': kb_id,\n",
    "        \"modelArn\": \"arn:aws:bedrock:{}::foundation-model/{}\".format(region_name, \n",
    "                                                                     model_id),\n",
    "        \"retrievalConfiguration\": {\n",
    "            \"vectorSearchConfiguration\": {\n",
    "                \"numberOfResults\":3\n",
    "            } \n",
    "        }\n",
    "    }\n",
    "\n",
    "    if x == \"QUERY_DECOMPOSITION\":\n",
    "        knowledgeBaseConfig[\"orchestrationConfiguration\"] = {\n",
    "                'queryTransformationConfiguration': {\n",
    "                    'type': 'QUERY_DECOMPOSITION'\n",
    "                }\n",
    "            }\n",
    "    \n",
    "    response_ret = bedrock_agent_runtime_client.retrieve_and_generate(\n",
    "        input={\n",
    "            \"text\": query\n",
    "        },\n",
    "        retrieveAndGenerateConfiguration={\n",
    "            \"type\": \"KNOWLEDGE_BASE\",\n",
    "            \"knowledgeBaseConfiguration\": knowledgeBaseConfig\n",
    "        }\n",
    "    )\n",
    "    \n",
    "    response = response_ret['output']['text']\n",
    "    \n",
    "    output_response[x] = [query, response]"
   ]
  },
  {
   "cell_type": "markdown",
   "id": "9096a479-068a-4d30-8062-5b8600b7ab04",
   "metadata": {},
   "source": [
    "### > Display the results side-by-side \n",
    "\n",
    "Notice splitting the question into sub questions increase your chances of matching the right and complete information and generate a more comprehensive final answer."
   ]
  },
  {
   "cell_type": "code",
   "execution_count": null,
   "id": "e5edd926-1563-4fed-97d1-c2a4f88dd5cf",
   "metadata": {},
   "outputs": [],
   "source": [
    "import pandas as pd\n",
    "from IPython.display import display, HTML\n",
    "\n",
    "# Create the first table\n",
    "df = pd.DataFrame(output_response)\n",
    "\n",
    "output=\"\"\n",
    "output += df.style.hide()._repr_html_()\n",
    "output += \"&nbsp;\"\n",
    "\n",
    "display(HTML(output))"
   ]
  },
  {
   "cell_type": "markdown",
   "id": "2e4137fa-f44d-486b-91ce-1bfa029b3b7f",
   "metadata": {},
   "source": [
    "### Clean Up"
   ]
  },
  {
   "cell_type": "code",
   "execution_count": null,
   "id": "703d0513-4c32-4e00-bd0b-51f461c4d5bb",
   "metadata": {},
   "outputs": [],
   "source": [
    "knowledge_base.delete_kb()"
   ]
  },
  {
   "cell_type": "code",
   "execution_count": null,
   "id": "0f6a9874-91f0-40d1-a0a6-2b50db441d46",
   "metadata": {},
   "outputs": [],
   "source": []
  }
 ],
 "metadata": {
  "kernelspec": {
   "display_name": "Python 3 (ipykernel)",
   "language": "python",
   "name": "python3"
  },
  "language_info": {
   "codemirror_mode": {
    "name": "ipython",
    "version": 3
   },
   "file_extension": ".py",
   "mimetype": "text/x-python",
   "name": "python",
   "nbconvert_exporter": "python",
   "pygments_lexer": "ipython3",
   "version": "3.11.10"
  }
 },
 "nbformat": 4,
 "nbformat_minor": 5
}
