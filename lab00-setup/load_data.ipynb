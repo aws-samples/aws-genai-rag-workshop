{
 "cells": [
  {
   "cell_type": "markdown",
   "id": "7170d7c3",
   "metadata": {},
   "source": [
    "## > Setup for all Labs"
   ]
  },
  {
   "cell_type": "code",
   "execution_count": 1,
   "id": "7923c45f",
   "metadata": {},
   "outputs": [
    {
     "name": "stdout",
     "output_type": "stream",
     "text": [
      "Requirement already satisfied: sagemaker in /Users/rubenhg/Documents/Projects/aws-genai-rag-workshop/.venv/lib/python3.11/site-packages (from -r requirements.txt (line 1)) (2.225.0)\n",
      "Requirement already satisfied: termcolor in /Users/rubenhg/Documents/Projects/aws-genai-rag-workshop/.venv/lib/python3.11/site-packages (from -r requirements.txt (line 2)) (2.4.0)\n",
      "Requirement already satisfied: ipykernel in /Users/rubenhg/Documents/Projects/aws-genai-rag-workshop/.venv/lib/python3.11/site-packages (from -r requirements.txt (line 3)) (6.29.5)\n",
      "Requirement already satisfied: pillow in /Users/rubenhg/Documents/Projects/aws-genai-rag-workshop/.venv/lib/python3.11/site-packages (from -r requirements.txt (line 4)) (10.4.0)\n",
      "Requirement already satisfied: pickleshare in /Users/rubenhg/Documents/Projects/aws-genai-rag-workshop/.venv/lib/python3.11/site-packages (from -r requirements.txt (line 5)) (0.7.5)\n",
      "Requirement already satisfied: boto3 in /Users/rubenhg/Documents/Projects/aws-genai-rag-workshop/.venv/lib/python3.11/site-packages (from -r requirements.txt (line 6)) (1.34.144)\n",
      "Requirement already satisfied: opensearch-py==2.3.1 in /Users/rubenhg/Documents/Projects/aws-genai-rag-workshop/.venv/lib/python3.11/site-packages (from -r requirements.txt (line 7)) (2.3.1)\n",
      "Requirement already satisfied: retrying==1.3.4 in /Users/rubenhg/Documents/Projects/aws-genai-rag-workshop/.venv/lib/python3.11/site-packages (from -r requirements.txt (line 8)) (1.3.4)\n",
      "Requirement already satisfied: plantweb in /Users/rubenhg/Documents/Projects/aws-genai-rag-workshop/.venv/lib/python3.11/site-packages (from -r requirements.txt (line 9)) (1.2.1)\n",
      "Requirement already satisfied: PyPDF2==3.0.1 in /Users/rubenhg/Documents/Projects/aws-genai-rag-workshop/.venv/lib/python3.11/site-packages (from -r requirements.txt (line 10)) (3.0.1)\n",
      "Requirement already satisfied: langchain==0.1.5 in /Users/rubenhg/Documents/Projects/aws-genai-rag-workshop/.venv/lib/python3.11/site-packages (from -r requirements.txt (line 11)) (0.1.5)\n",
      "Requirement already satisfied: sentence-transformers in /Users/rubenhg/Documents/Projects/aws-genai-rag-workshop/.venv/lib/python3.11/site-packages (from -r requirements.txt (line 13)) (3.0.1)\n",
      "Requirement already satisfied: urllib3<2,>=1.21.1 in /Users/rubenhg/Documents/Projects/aws-genai-rag-workshop/.venv/lib/python3.11/site-packages (from opensearch-py==2.3.1->-r requirements.txt (line 7)) (1.26.19)\n",
      "Requirement already satisfied: requests<3.0.0,>=2.4.0 in /Users/rubenhg/Documents/Projects/aws-genai-rag-workshop/.venv/lib/python3.11/site-packages (from opensearch-py==2.3.1->-r requirements.txt (line 7)) (2.32.3)\n",
      "Requirement already satisfied: six in /Users/rubenhg/Documents/Projects/aws-genai-rag-workshop/.venv/lib/python3.11/site-packages (from opensearch-py==2.3.1->-r requirements.txt (line 7)) (1.16.0)\n",
      "Requirement already satisfied: python-dateutil in /Users/rubenhg/Documents/Projects/aws-genai-rag-workshop/.venv/lib/python3.11/site-packages (from opensearch-py==2.3.1->-r requirements.txt (line 7)) (2.9.0.post0)\n",
      "Requirement already satisfied: certifi>=2022.12.07 in /Users/rubenhg/Documents/Projects/aws-genai-rag-workshop/.venv/lib/python3.11/site-packages (from opensearch-py==2.3.1->-r requirements.txt (line 7)) (2024.7.4)\n",
      "Requirement already satisfied: PyYAML>=5.3 in /Users/rubenhg/Documents/Projects/aws-genai-rag-workshop/.venv/lib/python3.11/site-packages (from langchain==0.1.5->-r requirements.txt (line 11)) (6.0.1)\n",
      "Requirement already satisfied: SQLAlchemy<3,>=1.4 in /Users/rubenhg/Documents/Projects/aws-genai-rag-workshop/.venv/lib/python3.11/site-packages (from langchain==0.1.5->-r requirements.txt (line 11)) (2.0.31)\n",
      "Requirement already satisfied: aiohttp<4.0.0,>=3.8.3 in /Users/rubenhg/Documents/Projects/aws-genai-rag-workshop/.venv/lib/python3.11/site-packages (from langchain==0.1.5->-r requirements.txt (line 11)) (3.9.5)\n",
      "Requirement already satisfied: dataclasses-json<0.7,>=0.5.7 in /Users/rubenhg/Documents/Projects/aws-genai-rag-workshop/.venv/lib/python3.11/site-packages (from langchain==0.1.5->-r requirements.txt (line 11)) (0.6.7)\n",
      "Requirement already satisfied: jsonpatch<2.0,>=1.33 in /Users/rubenhg/Documents/Projects/aws-genai-rag-workshop/.venv/lib/python3.11/site-packages (from langchain==0.1.5->-r requirements.txt (line 11)) (1.33)\n",
      "Requirement already satisfied: langchain-community<0.1,>=0.0.17 in /Users/rubenhg/Documents/Projects/aws-genai-rag-workshop/.venv/lib/python3.11/site-packages (from langchain==0.1.5->-r requirements.txt (line 11)) (0.0.20)\n",
      "Requirement already satisfied: langchain-core<0.2,>=0.1.16 in /Users/rubenhg/Documents/Projects/aws-genai-rag-workshop/.venv/lib/python3.11/site-packages (from langchain==0.1.5->-r requirements.txt (line 11)) (0.1.23)\n",
      "Requirement already satisfied: langsmith<0.1,>=0.0.83 in /Users/rubenhg/Documents/Projects/aws-genai-rag-workshop/.venv/lib/python3.11/site-packages (from langchain==0.1.5->-r requirements.txt (line 11)) (0.0.87)\n",
      "Requirement already satisfied: numpy<2,>=1 in /Users/rubenhg/Documents/Projects/aws-genai-rag-workshop/.venv/lib/python3.11/site-packages (from langchain==0.1.5->-r requirements.txt (line 11)) (1.26.4)\n",
      "Requirement already satisfied: pydantic<3,>=1 in /Users/rubenhg/Documents/Projects/aws-genai-rag-workshop/.venv/lib/python3.11/site-packages (from langchain==0.1.5->-r requirements.txt (line 11)) (2.8.2)\n",
      "Requirement already satisfied: tenacity<9.0.0,>=8.1.0 in /Users/rubenhg/Documents/Projects/aws-genai-rag-workshop/.venv/lib/python3.11/site-packages (from langchain==0.1.5->-r requirements.txt (line 11)) (8.5.0)\n",
      "Requirement already satisfied: attrs<24,>=23.1.0 in /Users/rubenhg/Documents/Projects/aws-genai-rag-workshop/.venv/lib/python3.11/site-packages (from sagemaker->-r requirements.txt (line 1)) (23.2.0)\n",
      "Requirement already satisfied: cloudpickle==2.2.1 in /Users/rubenhg/Documents/Projects/aws-genai-rag-workshop/.venv/lib/python3.11/site-packages (from sagemaker->-r requirements.txt (line 1)) (2.2.1)\n",
      "Requirement already satisfied: google-pasta in /Users/rubenhg/Documents/Projects/aws-genai-rag-workshop/.venv/lib/python3.11/site-packages (from sagemaker->-r requirements.txt (line 1)) (0.2.0)\n",
      "Requirement already satisfied: protobuf<5.0,>=3.12 in /Users/rubenhg/Documents/Projects/aws-genai-rag-workshop/.venv/lib/python3.11/site-packages (from sagemaker->-r requirements.txt (line 1)) (4.25.3)\n",
      "Requirement already satisfied: smdebug-rulesconfig==1.0.1 in /Users/rubenhg/Documents/Projects/aws-genai-rag-workshop/.venv/lib/python3.11/site-packages (from sagemaker->-r requirements.txt (line 1)) (1.0.1)\n",
      "Requirement already satisfied: importlib-metadata<7.0,>=1.4.0 in /Users/rubenhg/Documents/Projects/aws-genai-rag-workshop/.venv/lib/python3.11/site-packages (from sagemaker->-r requirements.txt (line 1)) (6.11.0)\n",
      "Requirement already satisfied: packaging>=20.0 in /Users/rubenhg/Documents/Projects/aws-genai-rag-workshop/.venv/lib/python3.11/site-packages (from sagemaker->-r requirements.txt (line 1)) (23.2)\n",
      "Requirement already satisfied: pandas in /Users/rubenhg/Documents/Projects/aws-genai-rag-workshop/.venv/lib/python3.11/site-packages (from sagemaker->-r requirements.txt (line 1)) (2.2.2)\n",
      "Requirement already satisfied: pathos in /Users/rubenhg/Documents/Projects/aws-genai-rag-workshop/.venv/lib/python3.11/site-packages (from sagemaker->-r requirements.txt (line 1)) (0.3.2)\n",
      "Requirement already satisfied: schema in /Users/rubenhg/Documents/Projects/aws-genai-rag-workshop/.venv/lib/python3.11/site-packages (from sagemaker->-r requirements.txt (line 1)) (0.7.7)\n",
      "Requirement already satisfied: jsonschema in /Users/rubenhg/Documents/Projects/aws-genai-rag-workshop/.venv/lib/python3.11/site-packages (from sagemaker->-r requirements.txt (line 1)) (4.23.0)\n",
      "Requirement already satisfied: platformdirs in /Users/rubenhg/Documents/Projects/aws-genai-rag-workshop/.venv/lib/python3.11/site-packages (from sagemaker->-r requirements.txt (line 1)) (4.2.2)\n",
      "Requirement already satisfied: tblib<4,>=1.7.0 in /Users/rubenhg/Documents/Projects/aws-genai-rag-workshop/.venv/lib/python3.11/site-packages (from sagemaker->-r requirements.txt (line 1)) (3.0.0)\n",
      "Requirement already satisfied: docker in /Users/rubenhg/Documents/Projects/aws-genai-rag-workshop/.venv/lib/python3.11/site-packages (from sagemaker->-r requirements.txt (line 1)) (7.1.0)\n",
      "Requirement already satisfied: tqdm in /Users/rubenhg/Documents/Projects/aws-genai-rag-workshop/.venv/lib/python3.11/site-packages (from sagemaker->-r requirements.txt (line 1)) (4.66.4)\n",
      "Requirement already satisfied: psutil in /Users/rubenhg/Documents/Projects/aws-genai-rag-workshop/.venv/lib/python3.11/site-packages (from sagemaker->-r requirements.txt (line 1)) (6.0.0)\n",
      "Requirement already satisfied: appnope in /Users/rubenhg/Documents/Projects/aws-genai-rag-workshop/.venv/lib/python3.11/site-packages (from ipykernel->-r requirements.txt (line 3)) (0.1.4)\n",
      "Requirement already satisfied: comm>=0.1.1 in /Users/rubenhg/Documents/Projects/aws-genai-rag-workshop/.venv/lib/python3.11/site-packages (from ipykernel->-r requirements.txt (line 3)) (0.2.2)\n",
      "Requirement already satisfied: debugpy>=1.6.5 in /Users/rubenhg/Documents/Projects/aws-genai-rag-workshop/.venv/lib/python3.11/site-packages (from ipykernel->-r requirements.txt (line 3)) (1.8.2)\n",
      "Requirement already satisfied: ipython>=7.23.1 in /Users/rubenhg/Documents/Projects/aws-genai-rag-workshop/.venv/lib/python3.11/site-packages (from ipykernel->-r requirements.txt (line 3)) (8.26.0)\n",
      "Requirement already satisfied: jupyter-client>=6.1.12 in /Users/rubenhg/Documents/Projects/aws-genai-rag-workshop/.venv/lib/python3.11/site-packages (from ipykernel->-r requirements.txt (line 3)) (8.6.2)\n",
      "Requirement already satisfied: jupyter-core!=5.0.*,>=4.12 in /Users/rubenhg/Documents/Projects/aws-genai-rag-workshop/.venv/lib/python3.11/site-packages (from ipykernel->-r requirements.txt (line 3)) (5.7.2)\n",
      "Requirement already satisfied: matplotlib-inline>=0.1 in /Users/rubenhg/Documents/Projects/aws-genai-rag-workshop/.venv/lib/python3.11/site-packages (from ipykernel->-r requirements.txt (line 3)) (0.1.7)\n",
      "Requirement already satisfied: nest-asyncio in /Users/rubenhg/Documents/Projects/aws-genai-rag-workshop/.venv/lib/python3.11/site-packages (from ipykernel->-r requirements.txt (line 3)) (1.6.0)\n",
      "Requirement already satisfied: pyzmq>=24 in /Users/rubenhg/Documents/Projects/aws-genai-rag-workshop/.venv/lib/python3.11/site-packages (from ipykernel->-r requirements.txt (line 3)) (26.0.3)\n",
      "Requirement already satisfied: tornado>=6.1 in /Users/rubenhg/Documents/Projects/aws-genai-rag-workshop/.venv/lib/python3.11/site-packages (from ipykernel->-r requirements.txt (line 3)) (6.4.1)\n",
      "Requirement already satisfied: traitlets>=5.4.0 in /Users/rubenhg/Documents/Projects/aws-genai-rag-workshop/.venv/lib/python3.11/site-packages (from ipykernel->-r requirements.txt (line 3)) (5.14.3)\n",
      "Requirement already satisfied: botocore<1.35.0,>=1.34.144 in /Users/rubenhg/Documents/Projects/aws-genai-rag-workshop/.venv/lib/python3.11/site-packages (from boto3->-r requirements.txt (line 6)) (1.34.144)\n",
      "Requirement already satisfied: jmespath<2.0.0,>=0.7.1 in /Users/rubenhg/Documents/Projects/aws-genai-rag-workshop/.venv/lib/python3.11/site-packages (from boto3->-r requirements.txt (line 6)) (1.0.1)\n",
      "Requirement already satisfied: s3transfer<0.11.0,>=0.10.0 in /Users/rubenhg/Documents/Projects/aws-genai-rag-workshop/.venv/lib/python3.11/site-packages (from boto3->-r requirements.txt (line 6)) (0.10.2)\n",
      "Requirement already satisfied: docutils in /Users/rubenhg/Documents/Projects/aws-genai-rag-workshop/.venv/lib/python3.11/site-packages (from plantweb->-r requirements.txt (line 9)) (0.21.2)\n",
      "Requirement already satisfied: transformers<5.0.0,>=4.34.0 in /Users/rubenhg/Documents/Projects/aws-genai-rag-workshop/.venv/lib/python3.11/site-packages (from sentence-transformers->-r requirements.txt (line 13)) (4.42.4)\n",
      "Requirement already satisfied: torch>=1.11.0 in /Users/rubenhg/Documents/Projects/aws-genai-rag-workshop/.venv/lib/python3.11/site-packages (from sentence-transformers->-r requirements.txt (line 13)) (2.3.1)\n",
      "Requirement already satisfied: scikit-learn in /Users/rubenhg/Documents/Projects/aws-genai-rag-workshop/.venv/lib/python3.11/site-packages (from sentence-transformers->-r requirements.txt (line 13)) (1.5.1)\n",
      "Requirement already satisfied: scipy in /Users/rubenhg/Documents/Projects/aws-genai-rag-workshop/.venv/lib/python3.11/site-packages (from sentence-transformers->-r requirements.txt (line 13)) (1.14.0)\n",
      "Requirement already satisfied: huggingface-hub>=0.15.1 in /Users/rubenhg/Documents/Projects/aws-genai-rag-workshop/.venv/lib/python3.11/site-packages (from sentence-transformers->-r requirements.txt (line 13)) (0.23.5)\n",
      "Requirement already satisfied: aiosignal>=1.1.2 in /Users/rubenhg/Documents/Projects/aws-genai-rag-workshop/.venv/lib/python3.11/site-packages (from aiohttp<4.0.0,>=3.8.3->langchain==0.1.5->-r requirements.txt (line 11)) (1.3.1)\n",
      "Requirement already satisfied: frozenlist>=1.1.1 in /Users/rubenhg/Documents/Projects/aws-genai-rag-workshop/.venv/lib/python3.11/site-packages (from aiohttp<4.0.0,>=3.8.3->langchain==0.1.5->-r requirements.txt (line 11)) (1.4.1)\n",
      "Requirement already satisfied: multidict<7.0,>=4.5 in /Users/rubenhg/Documents/Projects/aws-genai-rag-workshop/.venv/lib/python3.11/site-packages (from aiohttp<4.0.0,>=3.8.3->langchain==0.1.5->-r requirements.txt (line 11)) (6.0.5)\n",
      "Requirement already satisfied: yarl<2.0,>=1.0 in /Users/rubenhg/Documents/Projects/aws-genai-rag-workshop/.venv/lib/python3.11/site-packages (from aiohttp<4.0.0,>=3.8.3->langchain==0.1.5->-r requirements.txt (line 11)) (1.9.4)\n",
      "Requirement already satisfied: marshmallow<4.0.0,>=3.18.0 in /Users/rubenhg/Documents/Projects/aws-genai-rag-workshop/.venv/lib/python3.11/site-packages (from dataclasses-json<0.7,>=0.5.7->langchain==0.1.5->-r requirements.txt (line 11)) (3.21.3)\n",
      "Requirement already satisfied: typing-inspect<1,>=0.4.0 in /Users/rubenhg/Documents/Projects/aws-genai-rag-workshop/.venv/lib/python3.11/site-packages (from dataclasses-json<0.7,>=0.5.7->langchain==0.1.5->-r requirements.txt (line 11)) (0.9.0)\n",
      "Requirement already satisfied: filelock in /Users/rubenhg/Documents/Projects/aws-genai-rag-workshop/.venv/lib/python3.11/site-packages (from huggingface-hub>=0.15.1->sentence-transformers->-r requirements.txt (line 13)) (3.15.4)\n",
      "Requirement already satisfied: fsspec>=2023.5.0 in /Users/rubenhg/Documents/Projects/aws-genai-rag-workshop/.venv/lib/python3.11/site-packages (from huggingface-hub>=0.15.1->sentence-transformers->-r requirements.txt (line 13)) (2024.6.1)\n",
      "Requirement already satisfied: typing-extensions>=3.7.4.3 in /Users/rubenhg/Documents/Projects/aws-genai-rag-workshop/.venv/lib/python3.11/site-packages (from huggingface-hub>=0.15.1->sentence-transformers->-r requirements.txt (line 13)) (4.12.2)\n",
      "Requirement already satisfied: zipp>=0.5 in /Users/rubenhg/Documents/Projects/aws-genai-rag-workshop/.venv/lib/python3.11/site-packages (from importlib-metadata<7.0,>=1.4.0->sagemaker->-r requirements.txt (line 1)) (3.19.2)\n",
      "Requirement already satisfied: decorator in /Users/rubenhg/Documents/Projects/aws-genai-rag-workshop/.venv/lib/python3.11/site-packages (from ipython>=7.23.1->ipykernel->-r requirements.txt (line 3)) (5.1.1)\n",
      "Requirement already satisfied: jedi>=0.16 in /Users/rubenhg/Documents/Projects/aws-genai-rag-workshop/.venv/lib/python3.11/site-packages (from ipython>=7.23.1->ipykernel->-r requirements.txt (line 3)) (0.19.1)\n",
      "Requirement already satisfied: prompt-toolkit<3.1.0,>=3.0.41 in /Users/rubenhg/Documents/Projects/aws-genai-rag-workshop/.venv/lib/python3.11/site-packages (from ipython>=7.23.1->ipykernel->-r requirements.txt (line 3)) (3.0.47)\n",
      "Requirement already satisfied: pygments>=2.4.0 in /Users/rubenhg/Documents/Projects/aws-genai-rag-workshop/.venv/lib/python3.11/site-packages (from ipython>=7.23.1->ipykernel->-r requirements.txt (line 3)) (2.18.0)\n",
      "Requirement already satisfied: stack-data in /Users/rubenhg/Documents/Projects/aws-genai-rag-workshop/.venv/lib/python3.11/site-packages (from ipython>=7.23.1->ipykernel->-r requirements.txt (line 3)) (0.6.3)\n",
      "Requirement already satisfied: pexpect>4.3 in /Users/rubenhg/Documents/Projects/aws-genai-rag-workshop/.venv/lib/python3.11/site-packages (from ipython>=7.23.1->ipykernel->-r requirements.txt (line 3)) (4.9.0)\n",
      "Requirement already satisfied: jsonpointer>=1.9 in /Users/rubenhg/Documents/Projects/aws-genai-rag-workshop/.venv/lib/python3.11/site-packages (from jsonpatch<2.0,>=1.33->langchain==0.1.5->-r requirements.txt (line 11)) (3.0.0)\n",
      "Requirement already satisfied: anyio<5,>=3 in /Users/rubenhg/Documents/Projects/aws-genai-rag-workshop/.venv/lib/python3.11/site-packages (from langchain-core<0.2,>=0.1.16->langchain==0.1.5->-r requirements.txt (line 11)) (4.4.0)\n",
      "Requirement already satisfied: annotated-types>=0.4.0 in /Users/rubenhg/Documents/Projects/aws-genai-rag-workshop/.venv/lib/python3.11/site-packages (from pydantic<3,>=1->langchain==0.1.5->-r requirements.txt (line 11)) (0.7.0)\n",
      "Requirement already satisfied: pydantic-core==2.20.1 in /Users/rubenhg/Documents/Projects/aws-genai-rag-workshop/.venv/lib/python3.11/site-packages (from pydantic<3,>=1->langchain==0.1.5->-r requirements.txt (line 11)) (2.20.1)\n",
      "Requirement already satisfied: charset-normalizer<4,>=2 in /Users/rubenhg/Documents/Projects/aws-genai-rag-workshop/.venv/lib/python3.11/site-packages (from requests<3.0.0,>=2.4.0->opensearch-py==2.3.1->-r requirements.txt (line 7)) (3.3.2)\n",
      "Requirement already satisfied: idna<4,>=2.5 in /Users/rubenhg/Documents/Projects/aws-genai-rag-workshop/.venv/lib/python3.11/site-packages (from requests<3.0.0,>=2.4.0->opensearch-py==2.3.1->-r requirements.txt (line 7)) (3.7)\n",
      "Requirement already satisfied: sympy in /Users/rubenhg/Documents/Projects/aws-genai-rag-workshop/.venv/lib/python3.11/site-packages (from torch>=1.11.0->sentence-transformers->-r requirements.txt (line 13)) (1.13.0)\n",
      "Requirement already satisfied: networkx in /Users/rubenhg/Documents/Projects/aws-genai-rag-workshop/.venv/lib/python3.11/site-packages (from torch>=1.11.0->sentence-transformers->-r requirements.txt (line 13)) (3.3)\n",
      "Requirement already satisfied: jinja2 in /Users/rubenhg/Documents/Projects/aws-genai-rag-workshop/.venv/lib/python3.11/site-packages (from torch>=1.11.0->sentence-transformers->-r requirements.txt (line 13)) (3.1.4)\n",
      "Requirement already satisfied: regex!=2019.12.17 in /Users/rubenhg/Documents/Projects/aws-genai-rag-workshop/.venv/lib/python3.11/site-packages (from transformers<5.0.0,>=4.34.0->sentence-transformers->-r requirements.txt (line 13)) (2024.5.15)\n",
      "Requirement already satisfied: safetensors>=0.4.1 in /Users/rubenhg/Documents/Projects/aws-genai-rag-workshop/.venv/lib/python3.11/site-packages (from transformers<5.0.0,>=4.34.0->sentence-transformers->-r requirements.txt (line 13)) (0.4.3)\n",
      "Requirement already satisfied: tokenizers<0.20,>=0.19 in /Users/rubenhg/Documents/Projects/aws-genai-rag-workshop/.venv/lib/python3.11/site-packages (from transformers<5.0.0,>=4.34.0->sentence-transformers->-r requirements.txt (line 13)) (0.19.1)\n",
      "Requirement already satisfied: jsonschema-specifications>=2023.03.6 in /Users/rubenhg/Documents/Projects/aws-genai-rag-workshop/.venv/lib/python3.11/site-packages (from jsonschema->sagemaker->-r requirements.txt (line 1)) (2023.12.1)\n",
      "Requirement already satisfied: referencing>=0.28.4 in /Users/rubenhg/Documents/Projects/aws-genai-rag-workshop/.venv/lib/python3.11/site-packages (from jsonschema->sagemaker->-r requirements.txt (line 1)) (0.35.1)\n",
      "Requirement already satisfied: rpds-py>=0.7.1 in /Users/rubenhg/Documents/Projects/aws-genai-rag-workshop/.venv/lib/python3.11/site-packages (from jsonschema->sagemaker->-r requirements.txt (line 1)) (0.19.0)\n",
      "Requirement already satisfied: pytz>=2020.1 in /Users/rubenhg/Documents/Projects/aws-genai-rag-workshop/.venv/lib/python3.11/site-packages (from pandas->sagemaker->-r requirements.txt (line 1)) (2024.1)\n",
      "Requirement already satisfied: tzdata>=2022.7 in /Users/rubenhg/Documents/Projects/aws-genai-rag-workshop/.venv/lib/python3.11/site-packages (from pandas->sagemaker->-r requirements.txt (line 1)) (2024.1)\n",
      "Requirement already satisfied: ppft>=1.7.6.8 in /Users/rubenhg/Documents/Projects/aws-genai-rag-workshop/.venv/lib/python3.11/site-packages (from pathos->sagemaker->-r requirements.txt (line 1)) (1.7.6.8)\n",
      "Requirement already satisfied: dill>=0.3.8 in /Users/rubenhg/Documents/Projects/aws-genai-rag-workshop/.venv/lib/python3.11/site-packages (from pathos->sagemaker->-r requirements.txt (line 1)) (0.3.8)\n",
      "Requirement already satisfied: pox>=0.3.4 in /Users/rubenhg/Documents/Projects/aws-genai-rag-workshop/.venv/lib/python3.11/site-packages (from pathos->sagemaker->-r requirements.txt (line 1)) (0.3.4)\n",
      "Requirement already satisfied: multiprocess>=0.70.16 in /Users/rubenhg/Documents/Projects/aws-genai-rag-workshop/.venv/lib/python3.11/site-packages (from pathos->sagemaker->-r requirements.txt (line 1)) (0.70.16)\n",
      "Requirement already satisfied: joblib>=1.2.0 in /Users/rubenhg/Documents/Projects/aws-genai-rag-workshop/.venv/lib/python3.11/site-packages (from scikit-learn->sentence-transformers->-r requirements.txt (line 13)) (1.4.2)\n",
      "Requirement already satisfied: threadpoolctl>=3.1.0 in /Users/rubenhg/Documents/Projects/aws-genai-rag-workshop/.venv/lib/python3.11/site-packages (from scikit-learn->sentence-transformers->-r requirements.txt (line 13)) (3.5.0)\n",
      "Requirement already satisfied: sniffio>=1.1 in /Users/rubenhg/Documents/Projects/aws-genai-rag-workshop/.venv/lib/python3.11/site-packages (from anyio<5,>=3->langchain-core<0.2,>=0.1.16->langchain==0.1.5->-r requirements.txt (line 11)) (1.3.1)\n",
      "Requirement already satisfied: parso<0.9.0,>=0.8.3 in /Users/rubenhg/Documents/Projects/aws-genai-rag-workshop/.venv/lib/python3.11/site-packages (from jedi>=0.16->ipython>=7.23.1->ipykernel->-r requirements.txt (line 3)) (0.8.4)\n",
      "Requirement already satisfied: ptyprocess>=0.5 in /Users/rubenhg/Documents/Projects/aws-genai-rag-workshop/.venv/lib/python3.11/site-packages (from pexpect>4.3->ipython>=7.23.1->ipykernel->-r requirements.txt (line 3)) (0.7.0)\n",
      "Requirement already satisfied: wcwidth in /Users/rubenhg/Documents/Projects/aws-genai-rag-workshop/.venv/lib/python3.11/site-packages (from prompt-toolkit<3.1.0,>=3.0.41->ipython>=7.23.1->ipykernel->-r requirements.txt (line 3)) (0.2.13)\n",
      "Requirement already satisfied: mypy-extensions>=0.3.0 in /Users/rubenhg/Documents/Projects/aws-genai-rag-workshop/.venv/lib/python3.11/site-packages (from typing-inspect<1,>=0.4.0->dataclasses-json<0.7,>=0.5.7->langchain==0.1.5->-r requirements.txt (line 11)) (1.0.0)\n",
      "Requirement already satisfied: MarkupSafe>=2.0 in /Users/rubenhg/Documents/Projects/aws-genai-rag-workshop/.venv/lib/python3.11/site-packages (from jinja2->torch>=1.11.0->sentence-transformers->-r requirements.txt (line 13)) (2.1.5)\n",
      "Requirement already satisfied: executing>=1.2.0 in /Users/rubenhg/Documents/Projects/aws-genai-rag-workshop/.venv/lib/python3.11/site-packages (from stack-data->ipython>=7.23.1->ipykernel->-r requirements.txt (line 3)) (2.0.1)\n",
      "Requirement already satisfied: asttokens>=2.1.0 in /Users/rubenhg/Documents/Projects/aws-genai-rag-workshop/.venv/lib/python3.11/site-packages (from stack-data->ipython>=7.23.1->ipykernel->-r requirements.txt (line 3)) (2.4.1)\n",
      "Requirement already satisfied: pure-eval in /Users/rubenhg/Documents/Projects/aws-genai-rag-workshop/.venv/lib/python3.11/site-packages (from stack-data->ipython>=7.23.1->ipykernel->-r requirements.txt (line 3)) (0.2.2)\n",
      "Requirement already satisfied: mpmath<1.4,>=1.1.0 in /Users/rubenhg/Documents/Projects/aws-genai-rag-workshop/.venv/lib/python3.11/site-packages (from sympy->torch>=1.11.0->sentence-transformers->-r requirements.txt (line 13)) (1.3.0)\n",
      "Note: you may need to restart the kernel to use updated packages.\n"
     ]
    }
   ],
   "source": [
    "%pip install -r requirements.txt"
   ]
  },
  {
   "cell_type": "markdown",
   "id": "66d3ae27-9d02-4815-931b-b7e17250e691",
   "metadata": {},
   "source": [
    "## > Initial setup Lab01"
   ]
  },
  {
   "cell_type": "code",
   "execution_count": 4,
   "id": "5fea2376-a35a-4ec0-9455-5753ed0cc8c4",
   "metadata": {},
   "outputs": [],
   "source": [
    "from utils import (\n",
    "    upload_file_to_s3,\n",
    ")\n",
    "\n",
    "import sagemaker\n",
    "import os\n",
    "import time\n",
    "\n",
    "sagemaker_session = sagemaker.Session()\n",
    "role = sagemaker.get_execution_role()  # execution role for the endpoint\n",
    "region = sagemaker_session._region_name\n",
    "\n",
    "bucket = sagemaker_session.default_bucket()\n",
    "prefix = \"swagger_codegen\"\n",
    "\n",
    "# claude pricing in us-east-1 pricing\n",
    "input_per_1k = 0.00025\n",
    "output_per_1k = 0.00125\n",
    "\n",
    "data_dir = \"../data\"\n",
    "yml_dir = f\"{data_dir}/yml_files\"\n",
    "uml_dir = f\"{data_dir}/uml_diagrams\""
   ]
  },
  {
   "cell_type": "markdown",
   "id": "d5328b55-6e1d-4b88-a349-8b4cc90ee17c",
   "metadata": {},
   "source": [
    "### > Upload data to S3 to setup the lab"
   ]
  },
  {
   "cell_type": "code",
   "execution_count": 2,
   "id": "7ef2ac3b-2c8f-4cc9-9c7c-f1e6cc9a2d11",
   "metadata": {},
   "outputs": [
    {
     "name": "stdout",
     "output_type": "stream",
     "text": [
      "File '../data/yml_files/uspto.yml' uploaded successfully to s3://sagemaker-us-east-1-699946278336/swagger_codegen/yml_files/uspto.yml\n",
      "File '../data/yml_files/petstore.yml' uploaded successfully to s3://sagemaker-us-east-1-699946278336/swagger_codegen/yml_files/petstore.yml\n",
      "File '../data/yml_files/flowerstore.yml' uploaded successfully to s3://sagemaker-us-east-1-699946278336/swagger_codegen/yml_files/flowerstore.yml\n",
      "File '../data/yml_files/bookstore.yml' uploaded successfully to s3://sagemaker-us-east-1-699946278336/swagger_codegen/yml_files/bookstore.yml\n",
      "File '../data/yml_files/link.yml' uploaded successfully to s3://sagemaker-us-east-1-699946278336/swagger_codegen/yml_files/link.yml\n",
      "Sync data to S3 from ../data/yml_files =========\n",
      "File '../data/uml_diagrams/bookstore.jpg' uploaded successfully to s3://sagemaker-us-east-1-699946278336/swagger_codegen/uml_diagrams/bookstore.jpg\n",
      "File '../data/uml_diagrams/link.jpg' uploaded successfully to s3://sagemaker-us-east-1-699946278336/swagger_codegen/uml_diagrams/link.jpg\n",
      "File '../data/uml_diagrams/flowerstore.jpg' uploaded successfully to s3://sagemaker-us-east-1-699946278336/swagger_codegen/uml_diagrams/flowerstore.jpg\n",
      "File '../data/uml_diagrams/uspto.jpg' uploaded successfully to s3://sagemaker-us-east-1-699946278336/swagger_codegen/uml_diagrams/uspto.jpg\n",
      "File '../data/uml_diagrams/petstore.jpg' uploaded successfully to s3://sagemaker-us-east-1-699946278336/swagger_codegen/uml_diagrams/petstore.jpg\n",
      "Sync data to S3 from ../data/uml_diagrams =========\n",
      "File '../data/yml_questions/bookstore.txt' uploaded successfully to s3://sagemaker-us-east-1-699946278336/swagger_codegen/yml_questions/bookstore.txt\n",
      "File '../data/yml_questions/link.txt' uploaded successfully to s3://sagemaker-us-east-1-699946278336/swagger_codegen/yml_questions/link.txt\n",
      "File '../data/yml_questions/uspto.txt' uploaded successfully to s3://sagemaker-us-east-1-699946278336/swagger_codegen/yml_questions/uspto.txt\n",
      "File '../data/yml_questions/petstore.txt' uploaded successfully to s3://sagemaker-us-east-1-699946278336/swagger_codegen/yml_questions/petstore.txt\n",
      "File '../data/yml_questions/flowerstore.txt' uploaded successfully to s3://sagemaker-us-east-1-699946278336/swagger_codegen/yml_questions/flowerstore.txt\n",
      "Sync data to S3 from ../data/yml_questions =========\n",
      "File '../data/uml_questions/bookstore.txt' uploaded successfully to s3://sagemaker-us-east-1-699946278336/swagger_codegen/uml_questions/bookstore.txt\n",
      "File '../data/uml_questions/link.txt' uploaded successfully to s3://sagemaker-us-east-1-699946278336/swagger_codegen/uml_questions/link.txt\n",
      "File '../data/uml_questions/uspto.txt' uploaded successfully to s3://sagemaker-us-east-1-699946278336/swagger_codegen/uml_questions/uspto.txt\n",
      "File '../data/uml_questions/petstore.txt' uploaded successfully to s3://sagemaker-us-east-1-699946278336/swagger_codegen/uml_questions/petstore.txt\n",
      "File '../data/uml_questions/flowerstore.txt' uploaded successfully to s3://sagemaker-us-east-1-699946278336/swagger_codegen/uml_questions/flowerstore.txt\n",
      "Sync data to S3 from ../data/uml_questions =========\n"
     ]
    }
   ],
   "source": [
    "data_dirs= [yml_dir,\n",
    "            uml_dir,\n",
    "            f\"{data_dir}/yml_questions\",\n",
    "            f\"{data_dir}/uml_questions\"]\n",
    "\n",
    "for ddir in data_dirs:\n",
    "    for filename in os.listdir(ddir):\n",
    "        filepath = os.path.join(ddir, filename)\n",
    "\n",
    "        # yml upload file to s3\n",
    "        key = f\"{prefix}/{filepath.replace(data_dir+'/', '')}\"\n",
    "        s3_path = upload_file_to_s3(filepath, bucket, key)\n",
    "\n",
    "    print(f\"Sync data to S3 from {ddir} =========\")"
   ]
  },
  {
   "cell_type": "markdown",
   "id": "d204416e-f96a-491d-978a-cad71e186f2e",
   "metadata": {},
   "source": [
    "### > Store the parameter for future labs"
   ]
  },
  {
   "cell_type": "code",
   "execution_count": 3,
   "id": "156611d8-c47d-4c9b-82c8-c5b48c02d55d",
   "metadata": {},
   "outputs": [
    {
     "name": "stdout",
     "output_type": "stream",
     "text": [
      "Stored 'bucket' (str)\n",
      "Stored 'prefix' (str)\n",
      "Stored 'yml_dir' (str)\n",
      "Stored 'uml_dir' (str)\n",
      "Stored 'data_dir' (str)\n",
      "sagemaker-us-east-1-699946278336\n"
     ]
    }
   ],
   "source": [
    "%store bucket\n",
    "%store prefix\n",
    "%store yml_dir\n",
    "%store uml_dir\n",
    "%store data_dir\n",
    "print(bucket)"
   ]
  },
  {
   "cell_type": "markdown",
   "id": "cb6c12f1",
   "metadata": {},
   "source": [
    "## > Initial Setup Lab02\n"
   ]
  },
  {
   "cell_type": "code",
   "execution_count": 15,
   "id": "603109a1",
   "metadata": {},
   "outputs": [
    {
     "name": "stdout",
     "output_type": "stream",
     "text": [
      "vector collection vector-content exists\n",
      "phlcxhubrgldq0vs7upf.us-east-1.aoss.amazonaws.com\n",
      "Stored 'vector_store_name' (str)\n",
      "Stored 'vector_collection_arn' (str)\n",
      "Stored 'vector_collection_id' (str)\n",
      "Stored 'vector_host' (str)\n"
     ]
    }
   ],
   "source": [
    "import boto3\n",
    "import pprint as pp\n",
    "\n",
    "\n",
    "from utility_2 import (\n",
    "    create_bedrock_execution_role,\n",
    "    create_policies_in_oss,\n",
    "    create_oss_policy_attach_bedrock_execution_role\n",
    ")\n",
    "\n",
    "boto3_session = boto3.Session()\n",
    "region_name = boto3_session.region_name\n",
    "aoss_client = boto3_session.client('opensearchserverless')\n",
    "\n",
    "vector_store_name = 'swagger-api-vector'\n",
    "\n",
    "exists = aoss_client.list_collections(\n",
    "    collectionFilters={'name': vector_store_name},\n",
    "    maxResults=10\n",
    ")\n",
    "\n",
    "if len(exists['collectionSummaries']) == 0:\n",
    "    \n",
    "    bedrock_kb_execution_role = create_bedrock_execution_role(bucket_name=bucket)\n",
    "    bedrock_kb_execution_role_arn = bedrock_kb_execution_role['Role']['Arn']\n",
    "    \n",
    "    # create security, network and data access policies within OSS\n",
    "    encryption_policy, network_policy, access_policy = create_policies_in_oss(vector_store_name=vector_store_name,\n",
    "                       aoss_client=aoss_client,\n",
    "                       bedrock_kb_execution_role_arn=bedrock_kb_execution_role_arn)\n",
    "\n",
    "\n",
    "    print(f\"creating vector collection {vector_store_name}\")\n",
    "    vector_collection = aoss_client.create_collection(name=vector_store_name,type='VECTORSEARCH')\n",
    "    vector_collection_arn = vector_collection[\"createCollectionDetail\"]['arn']\n",
    "    vector_collection_id = vector_collection['createCollectionDetail']['id']\n",
    "    \n",
    "    pp.pprint(vector_collection)\n",
    "    time.sleep(10)\n",
    "    \n",
    "    # # create oss policy and attach it to Bedrock execution role\n",
    "    # create_oss_policy_attach_bedrock_execution_role(collection_id=vector_collection_id,\n",
    "    #                                             bedrock_kb_execution_role=bedrock_kb_execution_role)\n",
    "\n",
    "else:\n",
    "    print(f\"vector collection {vector_store_name} exists\")\n",
    "    vector_collection_arn = exists['collectionSummaries'][0]['arn']\n",
    "    vector_collection_id = exists['collectionSummaries'][0]['id']\n",
    "\n",
    "vector_host = vector_collection_id + '.' + region_name + '.aoss.amazonaws.com'\n",
    "print(vector_host)\n",
    "\n",
    "%store vector_store_name\n",
    "%store vector_collection_arn\n",
    "%store vector_collection_id\n",
    "%store vector_host\n"
   ]
  }
 ],
 "metadata": {
  "kernelspec": {
   "display_name": "Python 3 (ipykernel)",
   "language": "python",
   "name": "python3"
  },
  "language_info": {
   "codemirror_mode": {
    "name": "ipython",
    "version": 3
   },
   "file_extension": ".py",
   "mimetype": "text/x-python",
   "name": "python",
   "nbconvert_exporter": "python",
   "pygments_lexer": "ipython3",
   "version": "3.11.8"
  }
 },
 "nbformat": 4,
 "nbformat_minor": 5
}
